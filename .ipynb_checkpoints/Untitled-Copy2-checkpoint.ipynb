{
 "cells": [
  {
   "cell_type": "code",
   "execution_count": 2,
   "metadata": {},
   "outputs": [],
   "source": [
    "import pandas as pd\n",
    "from bs4 import BeautifulSoup\n",
    "import requests\n",
    "requests.packages.urllib3.disable_warnings()\n",
    "import urllib.request\n",
    "import ssl\n",
    "import re"
   ]
  },
  {
   "cell_type": "code",
   "execution_count": 3,
   "metadata": {},
   "outputs": [],
   "source": [
    "try:\n",
    "    _create_unverified_https_context = ssl._create_unverified_context\n",
    "except AttributeError:\n",
    "    # Legacy Python that doesn't verify HTTPS certificates by default\n",
    "    pass\n",
    "else:\n",
    "    # Handle target environment that doesn't support HTTPS verification\n",
    "    ssl._create_default_https_context = _create_unverified_https_context\n",
    "\n",
    "baseurl = 'https://reestr.minsvyaz.ru'"
   ]
  },
  {
   "cell_type": "code",
   "execution_count": 4,
   "metadata": {},
   "outputs": [],
   "source": [
    "#поиск количества страниц c отображением по 100\n",
    "def find_n():\n",
    "    req = requests.get('https://reestr.minsvyaz.ru/reestr/?show_count=100', verify=False).text\n",
    "    res = BeautifulSoup(req, 'lxml').find('div', class_='page_nav_area').find_all('a', class_='nav_item')\n",
    "    return int(res[3].text)+1"
   ]
  },
  {
   "cell_type": "code",
   "execution_count": 5,
   "metadata": {},
   "outputs": [
    {
     "name": "stdout",
     "output_type": "stream",
     "text": [
      "https://reestr.minsvyaz.ru/reestr/?PAGEN_1=1&show_count=100\n",
      "https://reestr.minsvyaz.ru/reestr/?PAGEN_1=2&show_count=100\n",
      "https://reestr.minsvyaz.ru/reestr/?PAGEN_1=3&show_count=100\n",
      "https://reestr.minsvyaz.ru/reestr/?PAGEN_1=4&show_count=100\n",
      "https://reestr.minsvyaz.ru/reestr/?PAGEN_1=5&show_count=100\n",
      "https://reestr.minsvyaz.ru/reestr/?PAGEN_1=6&show_count=100\n",
      "https://reestr.minsvyaz.ru/reestr/?PAGEN_1=7&show_count=100\n",
      "https://reestr.minsvyaz.ru/reestr/?PAGEN_1=8&show_count=100\n",
      "https://reestr.minsvyaz.ru/reestr/?PAGEN_1=9&show_count=100\n",
      "https://reestr.minsvyaz.ru/reestr/?PAGEN_1=10&show_count=100\n",
      "https://reestr.minsvyaz.ru/reestr/?PAGEN_1=11&show_count=100\n",
      "https://reestr.minsvyaz.ru/reestr/?PAGEN_1=12&show_count=100\n",
      "https://reestr.minsvyaz.ru/reestr/?PAGEN_1=13&show_count=100\n",
      "https://reestr.minsvyaz.ru/reestr/?PAGEN_1=14&show_count=100\n",
      "https://reestr.minsvyaz.ru/reestr/?PAGEN_1=15&show_count=100\n",
      "https://reestr.minsvyaz.ru/reestr/?PAGEN_1=16&show_count=100\n",
      "https://reestr.minsvyaz.ru/reestr/?PAGEN_1=17&show_count=100\n",
      "https://reestr.minsvyaz.ru/reestr/?PAGEN_1=18&show_count=100\n",
      "https://reestr.minsvyaz.ru/reestr/?PAGEN_1=19&show_count=100\n",
      "https://reestr.minsvyaz.ru/reestr/?PAGEN_1=20&show_count=100\n",
      "https://reestr.minsvyaz.ru/reestr/?PAGEN_1=21&show_count=100\n",
      "https://reestr.minsvyaz.ru/reestr/?PAGEN_1=22&show_count=100\n",
      "https://reestr.minsvyaz.ru/reestr/?PAGEN_1=23&show_count=100\n",
      "https://reestr.minsvyaz.ru/reestr/?PAGEN_1=24&show_count=100\n",
      "https://reestr.minsvyaz.ru/reestr/?PAGEN_1=25&show_count=100\n",
      "https://reestr.minsvyaz.ru/reestr/?PAGEN_1=26&show_count=100\n",
      "https://reestr.minsvyaz.ru/reestr/?PAGEN_1=27&show_count=100\n",
      "https://reestr.minsvyaz.ru/reestr/?PAGEN_1=28&show_count=100\n",
      "https://reestr.minsvyaz.ru/reestr/?PAGEN_1=29&show_count=100\n",
      "https://reestr.minsvyaz.ru/reestr/?PAGEN_1=30&show_count=100\n",
      "https://reestr.minsvyaz.ru/reestr/?PAGEN_1=31&show_count=100\n",
      "https://reestr.minsvyaz.ru/reestr/?PAGEN_1=32&show_count=100\n",
      "https://reestr.minsvyaz.ru/reestr/?PAGEN_1=33&show_count=100\n",
      "https://reestr.minsvyaz.ru/reestr/?PAGEN_1=34&show_count=100\n",
      "https://reestr.minsvyaz.ru/reestr/?PAGEN_1=35&show_count=100\n",
      "https://reestr.minsvyaz.ru/reestr/?PAGEN_1=36&show_count=100\n",
      "https://reestr.minsvyaz.ru/reestr/?PAGEN_1=37&show_count=100\n",
      "https://reestr.minsvyaz.ru/reestr/?PAGEN_1=38&show_count=100\n",
      "https://reestr.minsvyaz.ru/reestr/?PAGEN_1=39&show_count=100\n",
      "https://reestr.minsvyaz.ru/reestr/?PAGEN_1=40&show_count=100\n",
      "https://reestr.minsvyaz.ru/reestr/?PAGEN_1=41&show_count=100\n",
      "https://reestr.minsvyaz.ru/reestr/?PAGEN_1=42&show_count=100\n",
      "https://reestr.minsvyaz.ru/reestr/?PAGEN_1=43&show_count=100\n",
      "https://reestr.minsvyaz.ru/reestr/?PAGEN_1=44&show_count=100\n",
      "https://reestr.minsvyaz.ru/reestr/?PAGEN_1=45&show_count=100\n",
      "https://reestr.minsvyaz.ru/reestr/?PAGEN_1=46&show_count=100\n",
      "https://reestr.minsvyaz.ru/reestr/?PAGEN_1=47&show_count=100\n",
      "https://reestr.minsvyaz.ru/reestr/?PAGEN_1=48&show_count=100\n",
      "https://reestr.minsvyaz.ru/reestr/?PAGEN_1=49&show_count=100\n",
      "https://reestr.minsvyaz.ru/reestr/?PAGEN_1=50&show_count=100\n",
      "https://reestr.minsvyaz.ru/reestr/?PAGEN_1=51&show_count=100\n",
      "https://reestr.minsvyaz.ru/reestr/?PAGEN_1=52&show_count=100\n",
      "https://reestr.minsvyaz.ru/reestr/?PAGEN_1=53&show_count=100\n",
      "https://reestr.minsvyaz.ru/reestr/?PAGEN_1=54&show_count=100\n",
      "https://reestr.minsvyaz.ru/reestr/?PAGEN_1=55&show_count=100\n",
      "https://reestr.minsvyaz.ru/reestr/?PAGEN_1=56&show_count=100\n",
      "https://reestr.minsvyaz.ru/reestr/?PAGEN_1=57&show_count=100\n",
      "https://reestr.minsvyaz.ru/reestr/?PAGEN_1=58&show_count=100\n",
      "https://reestr.minsvyaz.ru/reestr/?PAGEN_1=59&show_count=100\n",
      "https://reestr.minsvyaz.ru/reestr/?PAGEN_1=60&show_count=100\n",
      "https://reestr.minsvyaz.ru/reestr/?PAGEN_1=61&show_count=100\n",
      "https://reestr.minsvyaz.ru/reestr/?PAGEN_1=62&show_count=100\n",
      "https://reestr.minsvyaz.ru/reestr/?PAGEN_1=63&show_count=100\n",
      "https://reestr.minsvyaz.ru/reestr/?PAGEN_1=64&show_count=100\n",
      "https://reestr.minsvyaz.ru/reestr/?PAGEN_1=65&show_count=100\n",
      "https://reestr.minsvyaz.ru/reestr/?PAGEN_1=66&show_count=100\n",
      "https://reestr.minsvyaz.ru/reestr/?PAGEN_1=67&show_count=100\n",
      "https://reestr.minsvyaz.ru/reestr/?PAGEN_1=68&show_count=100\n",
      "https://reestr.minsvyaz.ru/reestr/?PAGEN_1=69&show_count=100\n",
      "https://reestr.minsvyaz.ru/reestr/?PAGEN_1=70&show_count=100\n",
      "https://reestr.minsvyaz.ru/reestr/?PAGEN_1=71&show_count=100\n",
      "https://reestr.minsvyaz.ru/reestr/?PAGEN_1=72&show_count=100\n",
      "https://reestr.minsvyaz.ru/reestr/?PAGEN_1=73&show_count=100\n",
      "https://reestr.minsvyaz.ru/reestr/?PAGEN_1=74&show_count=100\n",
      "https://reestr.minsvyaz.ru/reestr/?PAGEN_1=75&show_count=100\n",
      "https://reestr.minsvyaz.ru/reestr/?PAGEN_1=76&show_count=100\n",
      "https://reestr.minsvyaz.ru/reestr/?PAGEN_1=77&show_count=100\n",
      "https://reestr.minsvyaz.ru/reestr/?PAGEN_1=78&show_count=100\n",
      "https://reestr.minsvyaz.ru/reestr/?PAGEN_1=79&show_count=100\n",
      "https://reestr.minsvyaz.ru/reestr/?PAGEN_1=80&show_count=100\n",
      "https://reestr.minsvyaz.ru/reestr/?PAGEN_1=81&show_count=100\n",
      "https://reestr.minsvyaz.ru/reestr/?PAGEN_1=82&show_count=100\n",
      "https://reestr.minsvyaz.ru/reestr/?PAGEN_1=83&show_count=100\n",
      "https://reestr.minsvyaz.ru/reestr/?PAGEN_1=84&show_count=100\n",
      "https://reestr.minsvyaz.ru/reestr/?PAGEN_1=85&show_count=100\n",
      "https://reestr.minsvyaz.ru/reestr/?PAGEN_1=86&show_count=100\n",
      "https://reestr.minsvyaz.ru/reestr/?PAGEN_1=87&show_count=100\n",
      "https://reestr.minsvyaz.ru/reestr/?PAGEN_1=88&show_count=100\n"
     ]
    }
   ],
   "source": [
    "for i in range(1, find_n()):\n",
    "    # Создание ссылок для всех страниц поиска на сайте реестра (с отображением по 100)\n",
    "    url = baseurl + '/reestr/?PAGEN_1=' + str(i) + '&show_count=100'\n",
    "    response = urllib.request.urlopen(url)\n",
    "    print(url)\n",
    "    # поиск ссылок на страницы с юридической информации о ПО\n",
    "    links = re.findall('<a href=\\\"(/reestr/\\d*/)\\\"', str(response.read()))\n",
    "    with open('links.txt', mode='a', encoding='utf-8') as myfile:\n",
    "        for line in links:\n",
    "            print(baseurl + line, file=myfile)\n",
    "    myfile.close"
   ]
  },
  {
   "cell_type": "code",
   "execution_count": 9,
   "metadata": {},
   "outputs": [],
   "source": [
    "# константные значения\n",
    "links = \"links.txt\"\n",
    "# количество уникальных названий ПО\n",
    "with open(links) as f:\n",
    "    num = sum(1 for _ in f)\n",
    "# Имя выводного файла Excel\n",
    "file = \"Данные.xlsx\"\n",
    "\n",
    "# создание словаря для передачи его в последствии датафрейму в пандас\n",
    "data = pd.read_excel(file, index_col=None, encoding='utf-8')\n",
    "values = {'Название по': [], 'Вид организации':[],'Название организации': [], 'Все продукты организации':[],\n",
    "          'ФИО': [], 'ИНН': [], 'Сайт': [], 'Альтернатив': [],  'Класс по': [], 'Дата регистрации':[], 'Рег.номер ПО':[],\n",
    "         'Дата решения':[],'Решение':[],'Ссылка на приказ':[]}\n",
    "values['Название по'] = ['' for element in range(num)]\n",
    "values['Название организации'] = ['' for element in range(num)]\n",
    "values['ФИО'] = ['' for element in range(num)]\n",
    "values['ИНН'] = ['' for element in range(num)]\n",
    "values['Сайт'] = ['' for element in range(num)]\n",
    "values['Альтернатив'] = ['' for element in range(num)]\n",
    "values['Класс по'] = ['' for element in range(num)]\n",
    "values['Вид организации'] = ['' for element in range(num)]\n",
    "values['Все продукты организации'] = ['' for element in range(num)]\n",
    "values['Дата регистрации'] = ['' for element in range(num)]\n",
    "values['Рег.номер ПО'] = ['' for element in range(num)]\n",
    "values['Дата решения'] = ['' for element in range(num)]\n",
    "values['Решение'] = ['' for element in range(num)]\n",
    "values['Ссылка на приказ'] = ['' for element in range(num)]\n"
   ]
  },
  {
   "cell_type": "code",
   "execution_count": 7,
   "metadata": {},
   "outputs": [
    {
     "name": "stdout",
     "output_type": "stream",
     "text": [
      "https://reestr.minsvyaz.ru/reestr/58191/\n",
      "\n",
      "0 of 26148\n",
      "https://reestr.minsvyaz.ru/reestr/58193/\n",
      "\n",
      "1 of 26148\n",
      "https://reestr.minsvyaz.ru/reestr/58192/\n",
      "\n",
      "2 of 26148\n",
      "https://reestr.minsvyaz.ru/reestr/61242/\n",
      "\n",
      "3 of 26148\n"
     ]
    }
   ],
   "source": [
    "f = open(links)\n",
    "i = 0\n",
    "for url in f:\n",
    "    print(url)\n",
    "    print(str(i) + ' of ' + str(num))\n",
    "    req = requests.get(url, verify=False).text\n",
    "    soup = BeautifulSoup(req, 'lxml')\n",
    "    # 1 название ПО\n",
    "    soft = soup.find('h1', id='pagetitle').text\n",
    "    values['Название по'][i] = soft\n",
    "    # 2 название организации\n",
    "    try:\n",
    "        orgname = soup.find_all('a', title=re.compile(\"Все продукты\"))\n",
    "    except AttributeError:\n",
    "        orgname = \"\"\n",
    "        pass\n",
    "    values['Название организации'][i] = '::'.join([i.text.strip() for i in orgname])\n",
    "    # 3 ИНН ^(\\d{10}|\\d{12})$\n",
    "    try:\n",
    "        inn = soup.find_all('div', text=re.compile(\"(\\d{10}\\s|\\d{12}\\s)\"))\n",
    "    except AttributeError:\n",
    "        inn = ''\n",
    "        pass\n",
    "    #инн может быть несколько, например в случае 4 правообладателей-людей, поэтому инн в списке\n",
    "    values['ИНН'][i] = '::'.join([i.text.strip() for i in inn])\n",
    "    # 4 альтернативное название организации\n",
    "    try:\n",
    "        altname = soup.find_all('span', text=re.compile(\"Альтернативные наименования:\")).find_parent('div').text\n",
    "        altname = re.sub('Альтернативные наименования:', '', altname)\n",
    "    except AttributeError:\n",
    "        altname = \"\"\n",
    "        pass\n",
    "    values['Альтернатив'][i] = '::'.join([i.text.strip() for i in altname])\n",
    "    # 5 Класс по\n",
    "    try:\n",
    "        softclass = soup.find('span', text=re.compile(\"Класс ПО:\")).find_parent('div').find('font').text\n",
    "        softclass = re.sub('Класс ПО:', '', softclass)\n",
    "        softclass = softclass.strip()\n",
    "    except AttributeError:\n",
    "        softclass = \"\"\n",
    "        pass\n",
    "    values['Класс по'][i] = softclass\n",
    "    # 6 сайт производителя\n",
    "    try:\n",
    "        site = soup.find('span', text=re.compile(\"Сайт производителя:\")).find_parent('div').find('a').get('href')\n",
    "    except AttributeError:\n",
    "        site = \"\"\n",
    "        pass\n",
    "    values['Сайт'][i] = site\n",
    "    # 7 вид организации\n",
    "    try:\n",
    "        type_of_organization = soup.find(\"h5\", attrs={ \"style\" : \"font-size: 20px; margin-bottom: 12px;\"}).text\n",
    "    except AttributeError:\n",
    "        type_of_organization = \"\"\n",
    "        pass\n",
    "    values['Вид организации'][i] = type_of_organization\n",
    "    # 8 все продукты организации\n",
    "    try:\n",
    "        all_products = soup.find('a', title='Все продукты организации').get('href')\n",
    "    except AttributeError:\n",
    "        all_products = \"\"\n",
    "        pass\n",
    "    values['Все продукты организации'][i] = all_products\n",
    "    # 9 дата регистрации\n",
    "    try:\n",
    "        date_of_registration = soup.find('span', text=re.compile(\"Дата регистрации:\")).find_parent('div').text\n",
    "    except AttributeError:\n",
    "        date_of_registration = \"\"\n",
    "        pass\n",
    "    values['Дата регистрации'][i] = date_of_registration\n",
    "    # 10 регистрационный номер ПО\n",
    "    try:\n",
    "        reg_number = soup.find('span', text=re.compile(\"Рег. номер ПО:\")).find_parent('div').text\n",
    "    except AttributeError:\n",
    "        reg_number = \"\"\n",
    "        pass\n",
    "    values['Рег.номер ПО'][i] = reg_number\n",
    "    # 11 дата решения\n",
    "    try:\n",
    "        date_of_decision = soup.find('span', text=re.compile(\"Дата решения\")).find_parent('div').text\n",
    "    except AttributeError:\n",
    "        date_of_decision = \"\"\n",
    "        pass\n",
    "    values['Дата решения'][i] = date_of_decision\n",
    "    # 12 решение\n",
    "    try:\n",
    "        decision = soup.find('span', text=re.compile(\"Решение уполномоченного\")).find_parent('div').text\n",
    "    except AttributeError:\n",
    "        decision = \"\"\n",
    "        pass\n",
    "    values['Решение'][i] = decision\n",
    "    # 13 ссылка на приказ минкомсвязи\n",
    "    try:\n",
    "        link = soup.find('span', text=re.compile(\"Ссылка на приказ\")).find_parent('div').find('a').get('href')\n",
    "    except AttributeError:\n",
    "        link = \"\"\n",
    "        pass\n",
    "    values['Ссылка на приказ'][i] = link\n",
    "    i = i + 1\n",
    "    if i>3:\n",
    "        break\n"
   ]
  },
  {
   "cell_type": "code",
   "execution_count": null,
   "metadata": {},
   "outputs": [],
   "source": []
  },
  {
   "cell_type": "code",
   "execution_count": 8,
   "metadata": {},
   "outputs": [],
   "source": [
    "writer = pd.ExcelWriter(file)\n",
    "pd.DataFrame.from_dict(values).to_excel(writer, startcol=0, startrow=0, index=False)\n",
    "writer.save()"
   ]
  },
  {
   "cell_type": "code",
   "execution_count": 24,
   "metadata": {},
   "outputs": [
    {
     "name": "stdout",
     "output_type": "stream",
     "text": [
      "https://reestr.minsvyaz.ru/reestr/?PAGEN_1=89\n"
     ]
    }
   ],
   "source": [
    "url = baseurl + '/reestr/?PAGEN_1=' + str(i)\n",
    "response = urllib.request.urlopen(url)\n",
    "print(url)\n",
    "# поиск ссылок на страницы с юридической информации о ПО\n",
    "links = re.findall('<a href=\\\"(/reestr/\\d*/)\\\"', str(response.read()))"
   ]
  },
  {
   "cell_type": "code",
   "execution_count": 25,
   "metadata": {},
   "outputs": [
    {
     "data": {
      "text/plain": [
       "['/reestr/88164/',\n",
       " '/reestr/88165/',\n",
       " '/reestr/88166/',\n",
       " '/reestr/88167/',\n",
       " '/reestr/88168/',\n",
       " '/reestr/88169/',\n",
       " '/reestr/88170/',\n",
       " '/reestr/88171/',\n",
       " '/reestr/88172/',\n",
       " '/reestr/88173/',\n",
       " '/reestr/88174/',\n",
       " '/reestr/88185/',\n",
       " '/reestr/88186/',\n",
       " '/reestr/88187/',\n",
       " '/reestr/88178/',\n",
       " '/reestr/88179/',\n",
       " '/reestr/88180/',\n",
       " '/reestr/88181/',\n",
       " '/reestr/88182/',\n",
       " '/reestr/88183/']"
      ]
     },
     "execution_count": 25,
     "metadata": {},
     "output_type": "execute_result"
    }
   ],
   "source": [
    "links"
   ]
  },
  {
   "cell_type": "code",
   "execution_count": 38,
   "metadata": {},
   "outputs": [
    {
     "data": {
      "text/plain": [
       "['9705000373']"
      ]
     },
     "execution_count": 38,
     "metadata": {},
     "output_type": "execute_result"
    }
   ],
   "source": [
    "url = \"https://reestr.minsvyaz.ru/reestr/58191/\"\n",
    "req = requests.get(url, verify=False).text\n",
    "soup = BeautifulSoup(req, 'lxml')\n",
    "#инн\n",
    "try:\n",
    "    inn = soup.find_all('div', text=re.compile(\"(\\d{10}\\s|\\d{12}\\s)\"))\n",
    "except AttributeError:\n",
    "    inn = ''\n",
    "    pass\n",
    "[i.text.strip() for i in inn]"
   ]
  },
  {
   "cell_type": "code",
   "execution_count": 51,
   "metadata": {},
   "outputs": [
    {
     "data": {
      "text/plain": [
       "['ОБЩЕСТВО С ОГРАНИЧЕННОЙ ОТВЕТСТВЕННОСТЬЮ \"РЕД СОФТ\"']"
      ]
     },
     "execution_count": 51,
     "metadata": {},
     "output_type": "execute_result"
    }
   ],
   "source": [
    "url = \"https://reestr.minsvyaz.ru/reestr/58191/\"\n",
    "req = requests.get(url, verify=False).text\n",
    "soup = BeautifulSoup(req, 'lxml')\n",
    "# название организации\n",
    "try:\n",
    "    orgname = soup.find_all('a', title=re.compile(\"Все продукты\"))\n",
    "except AttributeError:\n",
    "    orgname = \"\"\n",
    "    pass\n",
    "[i.text.strip() for i in orgname]"
   ]
  },
  {
   "cell_type": "code",
   "execution_count": 53,
   "metadata": {},
   "outputs": [
    {
     "data": {
      "text/plain": [
       "'СУБД «Ред База Данных»'"
      ]
     },
     "execution_count": 53,
     "metadata": {},
     "output_type": "execute_result"
    }
   ],
   "source": [
    "url = \"https://reestr.minsvyaz.ru/reestr/58191/\"\n",
    "req = requests.get(url, verify=False).text\n",
    "soup = BeautifulSoup(req, 'lxml')\n",
    "# альтернативное название организации\n",
    "try:\n",
    "    altname = soup.find('span', text=re.compile(\"Альтернативные наименования:\")).find_parent('div').text\n",
    "    altname = re.sub('Альтернативные наименования:', '', altname)\n",
    "    altname = altname.strip()\n",
    "except AttributeError:\n",
    "    altname = \"\"\n",
    "    pass\n",
    "altname"
   ]
  },
  {
   "cell_type": "code",
   "execution_count": 59,
   "metadata": {},
   "outputs": [
    {
     "data": {
      "text/plain": [
       "'\\nАльтернативные наименования:\\n\\t\\t\\t\\t\\tСУБД «Ред База Данных»\\t\\t\\t\\t'"
      ]
     },
     "execution_count": 59,
     "metadata": {},
     "output_type": "execute_result"
    }
   ],
   "source": [
    "altname = soup.find('span', text=re.compile(\"Альтернативные наименования:\")).find_parent('div').text\n",
    "altname"
   ]
  },
  {
   "cell_type": "code",
   "execution_count": 61,
   "metadata": {},
   "outputs": [
    {
     "data": {
      "text/plain": [
       "'СУБД «Ред База Данных»'"
      ]
     },
     "execution_count": 61,
     "metadata": {},
     "output_type": "execute_result"
    }
   ],
   "source": [
    "altname = re.sub('Альтернативные наименования:', '', altname)\n",
    "altname.strip()"
   ]
  },
  {
   "cell_type": "code",
   "execution_count": 63,
   "metadata": {},
   "outputs": [
    {
     "data": {
      "text/plain": [
       "'http://www.cdc.ru/solutions/rsoft/optimum-heat-supply-billing.php'"
      ]
     },
     "execution_count": 63,
     "metadata": {},
     "output_type": "execute_result"
    }
   ],
   "source": [
    "url = \"https://reestr.minsvyaz.ru/reestr/88182/\"\n",
    "req = requests.get(url, verify=False).text\n",
    "soup = BeautifulSoup(req, 'lxml')\n",
    "# сайт производителя\n",
    "try:\n",
    "    site = soup.find('span', text=re.compile(\"Сайт производителя:\")).find_parent('div').find('a').get('href')\n",
    "except AttributeError:\n",
    "    site = \"\"\n",
    "site"
   ]
  },
  {
   "cell_type": "code",
   "execution_count": 64,
   "metadata": {},
   "outputs": [
    {
     "data": {
      "text/plain": [
       "'Системы управления процессами организации'"
      ]
     },
     "execution_count": 64,
     "metadata": {},
     "output_type": "execute_result"
    }
   ],
   "source": [
    "url = \"https://reestr.minsvyaz.ru/reestr/88182/\"\n",
    "req = requests.get(url, verify=False).text\n",
    "soup = BeautifulSoup(req, 'lxml')\n",
    "# сайт производителя\n",
    "try:\n",
    "    class_po = soup.find('span', text=re.compile(\"Класс ПО:\")).find_parent('div').find('font').text\n",
    "except AttributeError:\n",
    "    class_po = \"\"\n",
    "class_po"
   ]
  },
  {
   "cell_type": "code",
   "execution_count": null,
   "metadata": {},
   "outputs": [],
   "source": []
  }
 ],
 "metadata": {
  "kernelspec": {
   "display_name": "Python 3",
   "language": "python",
   "name": "python3"
  },
  "language_info": {
   "codemirror_mode": {
    "name": "ipython",
    "version": 3
   },
   "file_extension": ".py",
   "mimetype": "text/x-python",
   "name": "python",
   "nbconvert_exporter": "python",
   "pygments_lexer": "ipython3",
   "version": "3.8.3"
  }
 },
 "nbformat": 4,
 "nbformat_minor": 4
}
